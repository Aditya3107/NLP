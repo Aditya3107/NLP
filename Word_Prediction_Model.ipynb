{
 "cells": [
  {
   "cell_type": "code",
   "execution_count": 211,
   "metadata": {},
   "outputs": [
    {
     "name": "stderr",
     "output_type": "stream",
     "text": [
      "[nltk_data] Downloading package punkt to C:\\Users\\Aditya\n",
      "[nltk_data]     Parikh\\AppData\\Roaming\\nltk_data...\n",
      "[nltk_data]   Package punkt is already up-to-date!\n"
     ]
    },
    {
     "name": "stdout",
     "output_type": "stream",
     "text": [
      "['easy', 'boy'] 1.0\n",
      "['our', 'orders'] 0.1111111111111111\n",
      "['orders', 'were'] 0.5\n",
      "['were', 'to'] 0.16666666666666666\n",
      "['to', 'track'] 0.014705882352941176\n",
      "['track', 'the'] 1.0\n",
      "['the', 'wildlings'] 0.006024096385542169\n",
      "['', 'right'] 0.022727272727272728\n",
      "['right', 'give'] 0.1111111111111111\n",
      "['give', 'it'] 0.3333333333333333\n",
      "['it', 'here'] 0.029411764705882353\n",
      "['here', 'no'] 0.09090909090909091\n",
      "['put', 'away'] 1.0\n",
      "['away', 'your'] 0.25\n",
      "['your', 'blade'] 0.021739130434782608\n",
      "['', 'i'] 0.09090909090909091\n",
      "['i', 'take'] 0.020833333333333332\n",
      "['take', 'orders'] 0.125\n",
      "['orders', 'from'] 0.5\n",
      "['from', 'your'] 0.13333333333333333\n",
      "['your', 'father'] 0.13043478260869565\n",
      "['father', 'not'] 0.07142857142857142\n",
      "['not', 'you'] 0.05263157894736842\n",
      "['you', 'please'] 0.014184397163120567\n",
      "['please', 'father'] 0.2\n",
      "[\"i'm\", 'sorry'] 0.15789473684210525\n",
      "['sorry', 'bran'] 0.2\n",
      "['lord', 'stark'] 0.07142857142857142\n",
      "['there', 'are'] 0.4\n",
      "['are', 'five'] 0.08333333333333333\n",
      "['five', 'pups'] 0.3333333333333333\n",
      "['one', 'for'] 0.07692307692307693\n",
      "['for', 'each'] 0.03125\n",
      "['each', 'of'] 0.5\n",
      "['of', 'the'] 0.40425531914893614\n",
      "['the', 'stark'] 0.006024096385542169\n",
      "['stark', 'children'] 0.1111111111111111\n",
      "['the', 'direwolf'] 0.006024096385542169\n",
      "['direwolf', 'is'] 0.5\n",
      "['is', 'the'] 0.1282051282051282\n",
      "['the', 'sigil'] 0.006024096385542169\n",
      "['sigil', 'of'] 1.0\n",
      "['of', 'your'] 0.02127659574468085\n",
      "['your', 'house'] 0.021739130434782608\n",
      "['they', 'were'] 0.07692307692307693\n",
      "['were', 'meant'] 0.3333333333333333\n",
      "['meant', 'to'] 0.6666666666666666\n",
      "['to', 'have'] 0.04411764705882353\n",
      "['have', 'them'] 0.038461538461538464\n",
      "['you', 'will'] 0.0425531914893617\n",
      "['will', 'train'] 0.047619047619047616\n",
      "['train', 'them'] 1.0\n",
      "['them', 'yourselves'] 0.21428571428571427\n",
      "['we', 'tracked'] 0.07142857142857142\n",
      "['tracked', 'them'] 1.0\n",
      "['them', 'they'] 0.07142857142857142\n",
      "['they', \"won't\"] 0.07692307692307693\n",
      "[\"won't\", 'trouble'] 0.14285714285714285\n",
      "['trouble', 'us'] 1.0\n",
      "['us', 'no'] 0.08333333333333333\n",
      "['no', 'more'] 0.07692307692307693\n",
      "['you', 'will'] 0.0425531914893617\n",
      "['will', 'feed'] 0.047619047619047616\n",
      "['feed', 'them'] 1.0\n",
      "['them', 'yourselves'] 0.21428571428571427\n",
      "['and', 'if'] 0.020833333333333332\n",
      "['if', 'they'] 0.045454545454545456\n",
      "['they', 'die'] 0.038461538461538464\n",
      "['die', 'you'] 0.5\n",
      "['you', 'will'] 0.0425531914893617\n",
      "['will', 'bury'] 0.047619047619047616\n",
      "['bury', 'them'] 0.5\n",
      "['them', 'yourselves'] 0.21428571428571427\n",
      "['what', 'about'] 0.038461538461538464\n",
      "['about', 'you'] 0.14285714285714285\n",
      "[\"i'm\", 'not'] 0.15789473684210525\n",
      "['not', 'a'] 0.05263157894736842\n",
      "['a', 'stark'] 0.0125\n",
      "['get', 'on'] 0.07142857142857142\n",
      "['what', 'is'] 0.038461538461538464\n",
      "['is', 'it'] 0.10256410256410256\n",
      "['the', 'runt'] 0.006024096385542169\n",
      "['runt', 'of'] 1.0\n",
      "['of', 'the'] 0.40425531914893614\n",
      "['the', 'litter'] 0.006024096385542169\n",
      "['litter', 'that'] 1.0\n",
      "['that', \"one's\"] 0.0625\n",
      "[\"one's\", 'yours'] 1.0\n",
      "['yours', 'snow'] 0.5\n",
      "['as', 'your'] 0.16666666666666666\n",
      "['your', 'brother'] 0.021739130434782608\n",
      "['brother', 'i'] 0.1111111111111111\n",
      "['i', 'feel'] 0.010416666666666666\n",
      "['feel', \"it's\"] 0.3333333333333333\n",
      "[\"it's\", 'my'] 0.04\n",
      "['my', 'duty'] 0.02702702702702703\n",
      "['duty', 'to'] 1.0\n",
      "['to', 'warn'] 0.014705882352941176\n",
      "['warn', 'you'] 1.0\n",
      "['you', 'worry'] 0.0070921985815602835\n",
      "['worry', 'too'] 0.5\n",
      "['too', 'much'] 0.2222222222222222\n",
      "['', \"it's\"] 0.06818181818181818\n",
      "[\"it's\", 'starting'] 0.04\n",
      "['starting', 'to'] 1.0\n",
      "['to', 'show'] 0.014705882352941176\n",
      "['show', 'and'] 0.5\n",
      "['and', 'you'] 0.08333333333333333\n",
      "['you', 'never'] 0.0070921985815602835\n",
      "['never', 'worry'] 0.08333333333333333\n",
      "['worry', 'about'] 0.5\n",
      "['about', 'anything'] 0.14285714285714285\n",
      "['you', \"don't\"] 0.028368794326241134\n",
      "[\"don't\", 'think'] 0.10526315789473684\n",
      "['think', \"he'll\"] 0.16666666666666666\n",
      "[\"he'll\", 'ask'] 1.0\n",
      "['ask', 'us'] 0.2\n",
      "['us', 'how'] 0.08333333333333333\n",
      "['how', 'they'] 0.07692307692307693\n",
      "['they', 'died'] 0.038461538461538464\n",
      "['when', 'we'] 0.07142857142857142\n",
      "['we', 'were'] 0.14285714285714285\n",
      "['were', 'seven'] 0.16666666666666666\n",
      "['seven', 'and'] 0.25\n",
      "['and', 'you'] 0.08333333333333333\n",
      "['you', 'jumped'] 0.0070921985815602835\n",
      "['jumped', 'off'] 1.0\n",
      "['off', 'the'] 0.3333333333333333\n",
      "['the', 'cliffs'] 0.006024096385542169\n",
      "['cliffs', 'at'] 1.0\n",
      "['at', 'casterly'] 0.08333333333333333\n",
      "['casterly', 'rock'] 1.0\n",
      "['', 'foot'] 0.022727272727272728\n",
      "['foot', 'drop'] 1.0\n",
      "['drop', 'into'] 1.0\n",
      "['into', 'the'] 0.5\n",
      "['the', 'water'] 0.006024096385542169\n",
      "['water', 'you'] 1.0\n",
      "['you', 'were'] 0.0070921985815602835\n",
      "['were', 'never'] 0.16666666666666666\n",
      "['never', 'afraid'] 0.08333333333333333\n",
      "['there', 'was'] 0.2\n",
      "['was', 'nothing'] 0.05\n",
      "['nothing', 'to'] 0.5\n",
      "['to', 'be'] 0.07352941176470588\n",
      "['be', 'afraid'] 0.037037037037037035\n",
      "['afraid', 'of'] 0.5\n",
      "['of', 'until'] 0.02127659574468085\n",
      "['until', 'you'] 1.0\n",
      "['you', 'told'] 0.0070921985815602835\n",
      "['told', 'father'] 0.16666666666666666\n",
      "['', \"we're\"] 0.022727272727272728\n",
      "[\"we're\", 'lannisters'] 0.3333333333333333\n",
      "['lannisters', 'lannisters'] 0.2\n",
      "['lannisters', \"don't\"] 0.2\n",
      "[\"don't\", 'act'] 0.05263157894736842\n",
      "['act', 'like'] 1.0\n",
      "['like', 'fools'] 0.07692307692307693\n",
      "['', 'what'] 0.022727272727272728\n",
      "['what', 'if'] 0.07692307692307693\n",
      "['if', 'jon'] 0.045454545454545456\n",
      "['jon', 'arryn'] 0.7142857142857143\n",
      "['arryn', 'told'] 0.2\n",
      "['told', 'someone'] 0.16666666666666666\n",
      "['someone', 'but'] 0.5\n",
      "['but', 'who'] 0.058823529411764705\n",
      "['who', 'would'] 0.25\n",
      "['would', 'he'] 0.16666666666666666\n",
      "['he', 'tell'] 0.022727272727272728\n",
      "['my', 'husband'] 0.05405405405405406\n",
      "['if', 'he'] 0.13636363636363635\n",
      "['he', 'told'] 0.022727272727272728\n",
      "['told', 'the'] "
     ]
    },
    {
     "ename": "KeyboardInterrupt",
     "evalue": "",
     "output_type": "error",
     "traceback": [
      "\u001b[1;31m---------------------------------------------------------------------------\u001b[0m",
      "\u001b[1;31mKeyboardInterrupt\u001b[0m                         Traceback (most recent call last)",
      "\u001b[1;32m<ipython-input-211-856659ceb389>\u001b[0m in \u001b[0;36m<module>\u001b[1;34m\u001b[0m\n\u001b[0;32m     60\u001b[0m     \u001b[1;32mfor\u001b[0m \u001b[0mbigrams\u001b[0m \u001b[1;32min\u001b[0m \u001b[0mtotal_bigram_list\u001b[0m\u001b[1;33m:\u001b[0m\u001b[1;33m\u001b[0m\u001b[1;33m\u001b[0m\u001b[0m\n\u001b[0;32m     61\u001b[0m         \u001b[0mprobability_bigram\u001b[0m \u001b[1;33m=\u001b[0m \u001b[0mtotal_bigram_list\u001b[0m\u001b[1;33m.\u001b[0m\u001b[0mcount\u001b[0m\u001b[1;33m(\u001b[0m\u001b[0mbigrams\u001b[0m\u001b[1;33m)\u001b[0m \u001b[1;33m/\u001b[0m \u001b[0mtotal_wordlist\u001b[0m\u001b[1;33m.\u001b[0m\u001b[0mcount\u001b[0m\u001b[1;33m(\u001b[0m\u001b[0mbigrams\u001b[0m\u001b[1;33m[\u001b[0m\u001b[1;36m0\u001b[0m\u001b[1;33m]\u001b[0m\u001b[1;33m)\u001b[0m\u001b[1;33m\u001b[0m\u001b[1;33m\u001b[0m\u001b[0m\n\u001b[1;32m---> 62\u001b[1;33m         \u001b[0mprint\u001b[0m\u001b[1;33m(\u001b[0m\u001b[0mbigrams\u001b[0m\u001b[1;33m,\u001b[0m\u001b[0mprobability_bigram\u001b[0m\u001b[1;33m)\u001b[0m\u001b[1;33m\u001b[0m\u001b[1;33m\u001b[0m\u001b[0m\n\u001b[0m\u001b[0;32m     63\u001b[0m         \u001b[0mthewriter\u001b[0m\u001b[1;33m.\u001b[0m\u001b[0mwriterow\u001b[0m\u001b[1;33m(\u001b[0m\u001b[1;33m[\u001b[0m\u001b[0mbigrams\u001b[0m\u001b[1;33m,\u001b[0m\u001b[0mprobability_bigram\u001b[0m\u001b[1;33m]\u001b[0m\u001b[1;33m)\u001b[0m\u001b[1;33m\u001b[0m\u001b[1;33m\u001b[0m\u001b[0m\n\u001b[0;32m     64\u001b[0m \u001b[1;33m\u001b[0m\u001b[0m\n",
      "\u001b[1;32mC:\\ProgramData\\Anaconda3\\lib\\site-packages\\colorama\\ansitowin32.py\u001b[0m in \u001b[0;36mwrite\u001b[1;34m(self, text)\u001b[0m\n\u001b[0;32m     39\u001b[0m \u001b[1;33m\u001b[0m\u001b[0m\n\u001b[0;32m     40\u001b[0m     \u001b[1;32mdef\u001b[0m \u001b[0mwrite\u001b[0m\u001b[1;33m(\u001b[0m\u001b[0mself\u001b[0m\u001b[1;33m,\u001b[0m \u001b[0mtext\u001b[0m\u001b[1;33m)\u001b[0m\u001b[1;33m:\u001b[0m\u001b[1;33m\u001b[0m\u001b[1;33m\u001b[0m\u001b[0m\n\u001b[1;32m---> 41\u001b[1;33m         \u001b[0mself\u001b[0m\u001b[1;33m.\u001b[0m\u001b[0m__convertor\u001b[0m\u001b[1;33m.\u001b[0m\u001b[0mwrite\u001b[0m\u001b[1;33m(\u001b[0m\u001b[0mtext\u001b[0m\u001b[1;33m)\u001b[0m\u001b[1;33m\u001b[0m\u001b[1;33m\u001b[0m\u001b[0m\n\u001b[0m\u001b[0;32m     42\u001b[0m \u001b[1;33m\u001b[0m\u001b[0m\n\u001b[0;32m     43\u001b[0m     \u001b[1;32mdef\u001b[0m \u001b[0misatty\u001b[0m\u001b[1;33m(\u001b[0m\u001b[0mself\u001b[0m\u001b[1;33m)\u001b[0m\u001b[1;33m:\u001b[0m\u001b[1;33m\u001b[0m\u001b[1;33m\u001b[0m\u001b[0m\n",
      "\u001b[1;32mC:\\ProgramData\\Anaconda3\\lib\\site-packages\\colorama\\ansitowin32.py\u001b[0m in \u001b[0;36mwrite\u001b[1;34m(self, text)\u001b[0m\n\u001b[0;32m    160\u001b[0m     \u001b[1;32mdef\u001b[0m \u001b[0mwrite\u001b[0m\u001b[1;33m(\u001b[0m\u001b[0mself\u001b[0m\u001b[1;33m,\u001b[0m \u001b[0mtext\u001b[0m\u001b[1;33m)\u001b[0m\u001b[1;33m:\u001b[0m\u001b[1;33m\u001b[0m\u001b[1;33m\u001b[0m\u001b[0m\n\u001b[0;32m    161\u001b[0m         \u001b[1;32mif\u001b[0m \u001b[0mself\u001b[0m\u001b[1;33m.\u001b[0m\u001b[0mstrip\u001b[0m \u001b[1;32mor\u001b[0m \u001b[0mself\u001b[0m\u001b[1;33m.\u001b[0m\u001b[0mconvert\u001b[0m\u001b[1;33m:\u001b[0m\u001b[1;33m\u001b[0m\u001b[1;33m\u001b[0m\u001b[0m\n\u001b[1;32m--> 162\u001b[1;33m             \u001b[0mself\u001b[0m\u001b[1;33m.\u001b[0m\u001b[0mwrite_and_convert\u001b[0m\u001b[1;33m(\u001b[0m\u001b[0mtext\u001b[0m\u001b[1;33m)\u001b[0m\u001b[1;33m\u001b[0m\u001b[1;33m\u001b[0m\u001b[0m\n\u001b[0m\u001b[0;32m    163\u001b[0m         \u001b[1;32melse\u001b[0m\u001b[1;33m:\u001b[0m\u001b[1;33m\u001b[0m\u001b[1;33m\u001b[0m\u001b[0m\n\u001b[0;32m    164\u001b[0m             \u001b[0mself\u001b[0m\u001b[1;33m.\u001b[0m\u001b[0mwrapped\u001b[0m\u001b[1;33m.\u001b[0m\u001b[0mwrite\u001b[0m\u001b[1;33m(\u001b[0m\u001b[0mtext\u001b[0m\u001b[1;33m)\u001b[0m\u001b[1;33m\u001b[0m\u001b[1;33m\u001b[0m\u001b[0m\n",
      "\u001b[1;32mC:\\ProgramData\\Anaconda3\\lib\\site-packages\\colorama\\ansitowin32.py\u001b[0m in \u001b[0;36mwrite_and_convert\u001b[1;34m(self, text)\u001b[0m\n\u001b[0;32m    188\u001b[0m             \u001b[0mself\u001b[0m\u001b[1;33m.\u001b[0m\u001b[0mconvert_ansi\u001b[0m\u001b[1;33m(\u001b[0m\u001b[1;33m*\u001b[0m\u001b[0mmatch\u001b[0m\u001b[1;33m.\u001b[0m\u001b[0mgroups\u001b[0m\u001b[1;33m(\u001b[0m\u001b[1;33m)\u001b[0m\u001b[1;33m)\u001b[0m\u001b[1;33m\u001b[0m\u001b[1;33m\u001b[0m\u001b[0m\n\u001b[0;32m    189\u001b[0m             \u001b[0mcursor\u001b[0m \u001b[1;33m=\u001b[0m \u001b[0mend\u001b[0m\u001b[1;33m\u001b[0m\u001b[1;33m\u001b[0m\u001b[0m\n\u001b[1;32m--> 190\u001b[1;33m         \u001b[0mself\u001b[0m\u001b[1;33m.\u001b[0m\u001b[0mwrite_plain_text\u001b[0m\u001b[1;33m(\u001b[0m\u001b[0mtext\u001b[0m\u001b[1;33m,\u001b[0m \u001b[0mcursor\u001b[0m\u001b[1;33m,\u001b[0m \u001b[0mlen\u001b[0m\u001b[1;33m(\u001b[0m\u001b[0mtext\u001b[0m\u001b[1;33m)\u001b[0m\u001b[1;33m)\u001b[0m\u001b[1;33m\u001b[0m\u001b[1;33m\u001b[0m\u001b[0m\n\u001b[0m\u001b[0;32m    191\u001b[0m \u001b[1;33m\u001b[0m\u001b[0m\n\u001b[0;32m    192\u001b[0m \u001b[1;33m\u001b[0m\u001b[0m\n",
      "\u001b[1;32mC:\\ProgramData\\Anaconda3\\lib\\site-packages\\colorama\\ansitowin32.py\u001b[0m in \u001b[0;36mwrite_plain_text\u001b[1;34m(self, text, start, end)\u001b[0m\n\u001b[0;32m    194\u001b[0m         \u001b[1;32mif\u001b[0m \u001b[0mstart\u001b[0m \u001b[1;33m<\u001b[0m \u001b[0mend\u001b[0m\u001b[1;33m:\u001b[0m\u001b[1;33m\u001b[0m\u001b[1;33m\u001b[0m\u001b[0m\n\u001b[0;32m    195\u001b[0m             \u001b[0mself\u001b[0m\u001b[1;33m.\u001b[0m\u001b[0mwrapped\u001b[0m\u001b[1;33m.\u001b[0m\u001b[0mwrite\u001b[0m\u001b[1;33m(\u001b[0m\u001b[0mtext\u001b[0m\u001b[1;33m[\u001b[0m\u001b[0mstart\u001b[0m\u001b[1;33m:\u001b[0m\u001b[0mend\u001b[0m\u001b[1;33m]\u001b[0m\u001b[1;33m)\u001b[0m\u001b[1;33m\u001b[0m\u001b[1;33m\u001b[0m\u001b[0m\n\u001b[1;32m--> 196\u001b[1;33m             \u001b[0mself\u001b[0m\u001b[1;33m.\u001b[0m\u001b[0mwrapped\u001b[0m\u001b[1;33m.\u001b[0m\u001b[0mflush\u001b[0m\u001b[1;33m(\u001b[0m\u001b[1;33m)\u001b[0m\u001b[1;33m\u001b[0m\u001b[1;33m\u001b[0m\u001b[0m\n\u001b[0m\u001b[0;32m    197\u001b[0m \u001b[1;33m\u001b[0m\u001b[0m\n\u001b[0;32m    198\u001b[0m \u001b[1;33m\u001b[0m\u001b[0m\n",
      "\u001b[1;32mC:\\ProgramData\\Anaconda3\\lib\\site-packages\\ipykernel\\iostream.py\u001b[0m in \u001b[0;36mflush\u001b[1;34m(self)\u001b[0m\n\u001b[0;32m    339\u001b[0m         \u001b[1;32mif\u001b[0m \u001b[0mself\u001b[0m\u001b[1;33m.\u001b[0m\u001b[0mpub_thread\u001b[0m\u001b[1;33m.\u001b[0m\u001b[0mthread\u001b[0m\u001b[1;33m.\u001b[0m\u001b[0mis_alive\u001b[0m\u001b[1;33m(\u001b[0m\u001b[1;33m)\u001b[0m\u001b[1;33m:\u001b[0m\u001b[1;33m\u001b[0m\u001b[1;33m\u001b[0m\u001b[0m\n\u001b[0;32m    340\u001b[0m             \u001b[1;31m# request flush on the background thread\u001b[0m\u001b[1;33m\u001b[0m\u001b[1;33m\u001b[0m\u001b[1;33m\u001b[0m\u001b[0m\n\u001b[1;32m--> 341\u001b[1;33m             \u001b[0mself\u001b[0m\u001b[1;33m.\u001b[0m\u001b[0mpub_thread\u001b[0m\u001b[1;33m.\u001b[0m\u001b[0mschedule\u001b[0m\u001b[1;33m(\u001b[0m\u001b[0mself\u001b[0m\u001b[1;33m.\u001b[0m\u001b[0m_flush\u001b[0m\u001b[1;33m)\u001b[0m\u001b[1;33m\u001b[0m\u001b[1;33m\u001b[0m\u001b[0m\n\u001b[0m\u001b[0;32m    342\u001b[0m             \u001b[1;31m# wait for flush to actually get through, if we can.\u001b[0m\u001b[1;33m\u001b[0m\u001b[1;33m\u001b[0m\u001b[1;33m\u001b[0m\u001b[0m\n\u001b[0;32m    343\u001b[0m             \u001b[1;31m# waiting across threads during import can cause deadlocks\u001b[0m\u001b[1;33m\u001b[0m\u001b[1;33m\u001b[0m\u001b[1;33m\u001b[0m\u001b[0m\n",
      "\u001b[1;32mC:\\ProgramData\\Anaconda3\\lib\\site-packages\\ipykernel\\iostream.py\u001b[0m in \u001b[0;36mschedule\u001b[1;34m(self, f)\u001b[0m\n\u001b[0;32m    201\u001b[0m             \u001b[0mself\u001b[0m\u001b[1;33m.\u001b[0m\u001b[0m_events\u001b[0m\u001b[1;33m.\u001b[0m\u001b[0mappend\u001b[0m\u001b[1;33m(\u001b[0m\u001b[0mf\u001b[0m\u001b[1;33m)\u001b[0m\u001b[1;33m\u001b[0m\u001b[1;33m\u001b[0m\u001b[0m\n\u001b[0;32m    202\u001b[0m             \u001b[1;31m# wake event thread (message content is ignored)\u001b[0m\u001b[1;33m\u001b[0m\u001b[1;33m\u001b[0m\u001b[1;33m\u001b[0m\u001b[0m\n\u001b[1;32m--> 203\u001b[1;33m             \u001b[0mself\u001b[0m\u001b[1;33m.\u001b[0m\u001b[0m_event_pipe\u001b[0m\u001b[1;33m.\u001b[0m\u001b[0msend\u001b[0m\u001b[1;33m(\u001b[0m\u001b[1;34mb''\u001b[0m\u001b[1;33m)\u001b[0m\u001b[1;33m\u001b[0m\u001b[1;33m\u001b[0m\u001b[0m\n\u001b[0m\u001b[0;32m    204\u001b[0m         \u001b[1;32melse\u001b[0m\u001b[1;33m:\u001b[0m\u001b[1;33m\u001b[0m\u001b[1;33m\u001b[0m\u001b[0m\n\u001b[0;32m    205\u001b[0m             \u001b[0mf\u001b[0m\u001b[1;33m(\u001b[0m\u001b[1;33m)\u001b[0m\u001b[1;33m\u001b[0m\u001b[1;33m\u001b[0m\u001b[0m\n",
      "\u001b[1;32mC:\\ProgramData\\Anaconda3\\lib\\site-packages\\zmq\\sugar\\socket.py\u001b[0m in \u001b[0;36msend\u001b[1;34m(self, data, flags, copy, track, routing_id, group)\u001b[0m\n\u001b[0;32m    393\u001b[0m                                  copy_threshold=self.copy_threshold)\n\u001b[0;32m    394\u001b[0m             \u001b[0mdata\u001b[0m\u001b[1;33m.\u001b[0m\u001b[0mgroup\u001b[0m \u001b[1;33m=\u001b[0m \u001b[0mgroup\u001b[0m\u001b[1;33m\u001b[0m\u001b[1;33m\u001b[0m\u001b[0m\n\u001b[1;32m--> 395\u001b[1;33m         \u001b[1;32mreturn\u001b[0m \u001b[0msuper\u001b[0m\u001b[1;33m(\u001b[0m\u001b[0mSocket\u001b[0m\u001b[1;33m,\u001b[0m \u001b[0mself\u001b[0m\u001b[1;33m)\u001b[0m\u001b[1;33m.\u001b[0m\u001b[0msend\u001b[0m\u001b[1;33m(\u001b[0m\u001b[0mdata\u001b[0m\u001b[1;33m,\u001b[0m \u001b[0mflags\u001b[0m\u001b[1;33m=\u001b[0m\u001b[0mflags\u001b[0m\u001b[1;33m,\u001b[0m \u001b[0mcopy\u001b[0m\u001b[1;33m=\u001b[0m\u001b[0mcopy\u001b[0m\u001b[1;33m,\u001b[0m \u001b[0mtrack\u001b[0m\u001b[1;33m=\u001b[0m\u001b[0mtrack\u001b[0m\u001b[1;33m)\u001b[0m\u001b[1;33m\u001b[0m\u001b[1;33m\u001b[0m\u001b[0m\n\u001b[0m\u001b[0;32m    396\u001b[0m \u001b[1;33m\u001b[0m\u001b[0m\n\u001b[0;32m    397\u001b[0m     \u001b[1;32mdef\u001b[0m \u001b[0msend_multipart\u001b[0m\u001b[1;33m(\u001b[0m\u001b[0mself\u001b[0m\u001b[1;33m,\u001b[0m \u001b[0mmsg_parts\u001b[0m\u001b[1;33m,\u001b[0m \u001b[0mflags\u001b[0m\u001b[1;33m=\u001b[0m\u001b[1;36m0\u001b[0m\u001b[1;33m,\u001b[0m \u001b[0mcopy\u001b[0m\u001b[1;33m=\u001b[0m\u001b[1;32mTrue\u001b[0m\u001b[1;33m,\u001b[0m \u001b[0mtrack\u001b[0m\u001b[1;33m=\u001b[0m\u001b[1;32mFalse\u001b[0m\u001b[1;33m,\u001b[0m \u001b[1;33m**\u001b[0m\u001b[0mkwargs\u001b[0m\u001b[1;33m)\u001b[0m\u001b[1;33m:\u001b[0m\u001b[1;33m\u001b[0m\u001b[1;33m\u001b[0m\u001b[0m\n",
      "\u001b[1;32mzmq/backend/cython/socket.pyx\u001b[0m in \u001b[0;36mzmq.backend.cython.socket.Socket.send\u001b[1;34m()\u001b[0m\n",
      "\u001b[1;32mzmq/backend/cython/socket.pyx\u001b[0m in \u001b[0;36mzmq.backend.cython.socket.Socket.send\u001b[1;34m()\u001b[0m\n",
      "\u001b[1;32mzmq/backend/cython/socket.pyx\u001b[0m in \u001b[0;36mzmq.backend.cython.socket._send_copy\u001b[1;34m()\u001b[0m\n",
      "\u001b[1;32mC:\\ProgramData\\Anaconda3\\lib\\site-packages\\zmq\\backend\\cython\\checkrc.pxd\u001b[0m in \u001b[0;36mzmq.backend.cython.checkrc._check_rc\u001b[1;34m()\u001b[0m\n",
      "\u001b[1;31mKeyboardInterrupt\u001b[0m: "
     ]
    }
   ],
   "source": [
    "import nltk,re,pprint,collections,json,csv\n",
    "from nltk import word_tokenize\n",
    "from urllib import request\n",
    "from nltk.util import ngrams\n",
    "from collections import Counter,defaultdict\n",
    "nltk.download('punkt')\n",
    "import spacy\n",
    "import numpy as np\n",
    "import pandas as pd\n",
    "from collections import Counter, defaultdict\n",
    "from itertools import tee\n",
    "import json\n",
    "nlp = spacy.load('en_core_web_sm', disable=['parser', 'tagger', 'ner'])\n",
    "\n",
    "# read file\n",
    "with open('C:\\\\Users\\\\Aditya Parikh\\\\Desktop\\\\Fraunhofer HomeOffice\\\\Datasets\\\\season1.json') as myfile:\n",
    "    data= json.load(myfile)\n",
    "\n",
    "total_bigrams = []\n",
    "total_trigrams = []\n",
    "total_wordlist_of_list = []\n",
    "total_wordlist = []\n",
    "for sentense in data[\"GameOfThrones\"].values():\n",
    "    normalizedsentense = sentense.lower()\n",
    "    b = re.sub(r\"[^a-z']+\", ' ', normalizedsentense)\n",
    "    wordlist = list(b.split(\" \"))[:-1]\n",
    "    if wordlist not in total_wordlist:\n",
    "        total_wordlist_of_list.append(wordlist)\n",
    "        \n",
    "    #generating bigrams\n",
    "    def get_bigrams(wordlist,n):\n",
    "        bigrams = []\n",
    "        for i in range(len(wordlist)-(n-1)):\n",
    "            bigrams.append(wordlist[i:i+n])\n",
    "        return bigrams\n",
    "    \n",
    "    bigrams = get_bigrams(wordlist)\n",
    "    if bigrams not in total_bigrams:\n",
    "        total_bigrams.append(bigrams)\n",
    "        \n",
    "    #generating trigrams\n",
    "    def get_trigrams(wordlist):\n",
    "        trigrams = []\n",
    "        for i in range(len(wordlist)-(3-1)):\n",
    "            trigrams.append(wordlist[i:i+3])\n",
    "        return trigrams\n",
    "        \n",
    "    trigrams = get_trigrams(wordlist)\n",
    "    if trigrams not in total_trigrams:\n",
    "        total_trigrams.append(trigrams)\n",
    "    #print(total_trigrams)\n",
    "\n",
    "total_bigram_list= [item for sublist in total_bigrams for item in sublist]\n",
    "total_trigram_list= [item for sublist in total_trigrams for item in sublist]\n",
    "total_wordlist = [item for sublist in total_wordlist_of_list for item in sublist]\n",
    "\n",
    "#finding the probability of bigrams\n",
    "with open('bigramProbability.csv','w',newline = '') as f:\n",
    "    thewriter = csv.writer(f)\n",
    "    for bigrams in total_bigram_list:\n",
    "        probability_bigram = total_bigram_list.count(bigrams) / total_wordlist.count(bigrams[0])\n",
    "        print(bigrams,probability_bigram)\n",
    "        thewriter.writerow([bigrams,probability_bigram])\n",
    "        "
   ]
  },
  {
   "cell_type": "code",
   "execution_count": null,
   "metadata": {},
   "outputs": [],
   "source": [
    "#bigram word prediction\n",
    "def make_bigrams(iterator):\n",
    "    a, b = tee(iterator,2)\n",
    "    next(b)\n",
    "    return zip(a,b)"
   ]
  },
  {
   "cell_type": "code",
   "execution_count": 163,
   "metadata": {},
   "outputs": [
    {
     "data": {
      "text/plain": [
       "[(('of', 'the'), 19), (('the', 'king'), 15), (('do', 'you'), 11)]"
      ]
     },
     "execution_count": 163,
     "metadata": {},
     "output_type": "execute_result"
    }
   ],
   "source": [
    "a = [entry[0] for entry in total_bigram_list]\n",
    "b = [entry[1] for entry in total_bigram_list]\n",
    "bigrams = Counter(zip(a,b))\n",
    "bigrams.most_common(3)"
   ]
  },
  {
   "cell_type": "code",
   "execution_count": 196,
   "metadata": {},
   "outputs": [
    {
     "data": {
      "text/plain": [
       "Counter({'both': 1,\n",
       "         'rides': 1,\n",
       "         \"he's\": 1,\n",
       "         'is': 2,\n",
       "         'of': 2,\n",
       "         'has': 1,\n",
       "         'takes': 1,\n",
       "         'rode': 1,\n",
       "         'an': 1})"
      ]
     },
     "execution_count": 196,
     "metadata": {},
     "output_type": "execute_result"
    }
   ],
   "source": [
    "e = defaultdict(Counter)\n",
    "for a,b in bigrams:\n",
    "    e[a][b] += bigrams[a,b]\n",
    "e[\"king\"]"
   ]
  },
  {
   "cell_type": "code",
   "execution_count": 164,
   "metadata": {},
   "outputs": [],
   "source": [
    "#trigram word prediction\n",
    "def make_trigrams(iterator):\n",
    "    a, b, c = tee(iterator, 3)\n",
    "    next(b)\n",
    "    next(c)\n",
    "    next(c)\n",
    "    return zip(a, b, c)"
   ]
  },
  {
   "cell_type": "code",
   "execution_count": 166,
   "metadata": {},
   "outputs": [
    {
     "data": {
      "text/plain": [
       "[(('hand', 'of', 'the'), 4),\n",
       " (('of', 'the', 'king'), 4),\n",
       " (('the', 'white', 'walkers'), 4),\n",
       " (('do', 'you', 'know'), 3),\n",
       " (('i', 'need', 'you'), 3)]"
      ]
     },
     "execution_count": 166,
     "metadata": {},
     "output_type": "execute_result"
    }
   ],
   "source": [
    "a = [entry[0] for entry in total_trigram_list]\n",
    "b = [entry[1] for entry in total_trigram_list]\n",
    "c = [entry[2] for entry in total_trigram_list]\n",
    "trigrams = Counter(zip(a,b,c))\n",
    "trigrams.most_common(5)"
   ]
  },
  {
   "cell_type": "code",
   "execution_count": 168,
   "metadata": {},
   "outputs": [
    {
     "data": {
      "text/plain": [
       "Counter({'the': 4})"
      ]
     },
     "execution_count": 168,
     "metadata": {},
     "output_type": "execute_result"
    }
   ],
   "source": [
    "d = defaultdict(Counter)\n",
    "for a, b, c in trigrams:\n",
    "    d[a, b][c] += trigrams[a, b, c]\n",
    "    \n",
    "d[\"hand\",\"of\"]"
   ]
  },
  {
   "cell_type": "code",
   "execution_count": 193,
   "metadata": {},
   "outputs": [],
   "source": [
    "#next word or string prediction\n",
    "import random\n",
    "\n",
    "def pick(counter):\n",
    "    return random.choice(list(counter.elements()))"
   ]
  },
  {
   "cell_type": "code",
   "execution_count": 194,
   "metadata": {},
   "outputs": [],
   "source": [
    "prefix = \"of\",\"the\""
   ]
  },
  {
   "cell_type": "code",
   "execution_count": 195,
   "metadata": {},
   "outputs": [
    {
     "name": "stdout",
     "output_type": "stream",
     "text": [
      "of the wall isn't going "
     ]
    }
   ],
   "source": [
    "print(\" \".join(prefix), end=' ')\n",
    "for i in range(3):\n",
    "    suffix = pick(d[prefix])\n",
    "    print(suffix, end=' ')\n",
    "    prefix = prefix[1], suffix"
   ]
  },
  {
   "cell_type": "code",
   "execution_count": null,
   "metadata": {},
   "outputs": [],
   "source": []
  },
  {
   "cell_type": "code",
   "execution_count": null,
   "metadata": {},
   "outputs": [],
   "source": []
  },
  {
   "cell_type": "code",
   "execution_count": null,
   "metadata": {},
   "outputs": [],
   "source": []
  },
  {
   "cell_type": "code",
   "execution_count": null,
   "metadata": {},
   "outputs": [],
   "source": []
  },
  {
   "cell_type": "code",
   "execution_count": null,
   "metadata": {},
   "outputs": [],
   "source": []
  },
  {
   "cell_type": "code",
   "execution_count": null,
   "metadata": {},
   "outputs": [],
   "source": []
  },
  {
   "cell_type": "code",
   "execution_count": null,
   "metadata": {},
   "outputs": [],
   "source": []
  },
  {
   "cell_type": "code",
   "execution_count": null,
   "metadata": {},
   "outputs": [],
   "source": []
  },
  {
   "cell_type": "code",
   "execution_count": null,
   "metadata": {},
   "outputs": [],
   "source": []
  },
  {
   "cell_type": "code",
   "execution_count": null,
   "metadata": {},
   "outputs": [],
   "source": []
  },
  {
   "cell_type": "code",
   "execution_count": null,
   "metadata": {},
   "outputs": [],
   "source": []
  },
  {
   "cell_type": "code",
   "execution_count": null,
   "metadata": {},
   "outputs": [],
   "source": []
  },
  {
   "cell_type": "code",
   "execution_count": null,
   "metadata": {},
   "outputs": [],
   "source": []
  },
  {
   "cell_type": "code",
   "execution_count": null,
   "metadata": {},
   "outputs": [],
   "source": []
  }
 ],
 "metadata": {
  "kernelspec": {
   "display_name": "Python 3",
   "language": "python",
   "name": "python3"
  },
  "language_info": {
   "codemirror_mode": {
    "name": "ipython",
    "version": 3
   },
   "file_extension": ".py",
   "mimetype": "text/x-python",
   "name": "python",
   "nbconvert_exporter": "python",
   "pygments_lexer": "ipython3",
   "version": "3.7.3"
  }
 },
 "nbformat": 4,
 "nbformat_minor": 2
}
